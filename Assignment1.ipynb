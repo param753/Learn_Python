{
  "nbformat": 4,
  "nbformat_minor": 0,
  "metadata": {
    "colab": {
      "name": "Untitled1.ipynb",
      "provenance": [],
      "collapsed_sections": []
    },
    "kernelspec": {
      "name": "python3",
      "display_name": "Python 3"
    }
  },
  "cells": [
    {
      "cell_type": "markdown",
      "metadata": {
        "id": "GnOkqIUpTfn7",
        "colab_type": "text"
      },
      "source": [
        "1. program to append list and pop"
      ]
    },
    {
      "cell_type": "code",
      "metadata": {
        "id": "4rtOr4OvR_Xz",
        "colab_type": "code",
        "colab": {
          "base_uri": "https://localhost:8080/",
          "height": 35
        },
        "outputId": "8309ccd5-c48b-454d-f0a5-837281e4c9c9"
      },
      "source": [
        "## list with append and pop operation\n",
        "list1  = [10,20,30,40,50,70,80,90,120]\n",
        "list1.append(60)\n",
        "list1.pop(1)\n",
        "list1[-2:-6:-1]\n",
        "\n"
      ],
      "execution_count": 5,
      "outputs": [
        {
          "output_type": "execute_result",
          "data": {
            "text/plain": [
              "[120, 90, 80, 70]"
            ]
          },
          "metadata": {
            "tags": []
          },
          "execution_count": 5
        }
      ]
    },
    {
      "cell_type": "markdown",
      "metadata": {
        "id": "ir6mqnVcT8Nr",
        "colab_type": "text"
      },
      "source": [
        "Write a program which will find all such numbers which are divisible by 7 but are not a multiple\n",
        "of 5, between 2000 and 3200 (both included). The numbers obtained should be printed in a\n",
        "comma-separated sequence on a single line."
      ]
    },
    {
      "cell_type": "code",
      "metadata": {
        "id": "qa9BQ7ZiUfvu",
        "colab_type": "code",
        "colab": {
          "base_uri": "https://localhost:8080/",
          "height": 55
        },
        "outputId": "caaca070-2ef4-4817-a873-225dab1bdc3a"
      },
      "source": [
        "num_div_7 = []\n",
        "for num in range(2000,3201):\n",
        "  if num%5 !=0 and num%7 ==0:\n",
        "    num_div_7.append(num)\n",
        "\n",
        "print(num_div_7 , end='')"
      ],
      "execution_count": 16,
      "outputs": [
        {
          "output_type": "stream",
          "text": [
            "[2002, 2009, 2016, 2023, 2037, 2044, 2051, 2058, 2072, 2079, 2086, 2093, 2107, 2114, 2121, 2128, 2142, 2149, 2156, 2163, 2177, 2184, 2191, 2198, 2212, 2219, 2226, 2233, 2247, 2254, 2261, 2268, 2282, 2289, 2296, 2303, 2317, 2324, 2331, 2338, 2352, 2359, 2366, 2373, 2387, 2394, 2401, 2408, 2422, 2429, 2436, 2443, 2457, 2464, 2471, 2478, 2492, 2499, 2506, 2513, 2527, 2534, 2541, 2548, 2562, 2569, 2576, 2583, 2597, 2604, 2611, 2618, 2632, 2639, 2646, 2653, 2667, 2674, 2681, 2688, 2702, 2709, 2716, 2723, 2737, 2744, 2751, 2758, 2772, 2779, 2786, 2793, 2807, 2814, 2821, 2828, 2842, 2849, 2856, 2863, 2877, 2884, 2891, 2898, 2912, 2919, 2926, 2933, 2947, 2954, 2961, 2968, 2982, 2989, 2996, 3003, 3017, 3024, 3031, 3038, 3052, 3059, 3066, 3073, 3087, 3094, 3101, 3108, 3122, 3129, 3136, 3143, 3157, 3164, 3171, 3178, 3192, 3199]"
          ],
          "name": "stdout"
        }
      ]
    },
    {
      "cell_type": "markdown",
      "metadata": {
        "id": "eXQ3fMTMZb46",
        "colab_type": "text"
      },
      "source": [
        "Write a Python program to accept the user's first and last name and then getting them printed in\n",
        "the the reverse order with a space between first name and last name.\n"
      ]
    },
    {
      "cell_type": "code",
      "metadata": {
        "id": "-vhbFT1gZd5w",
        "colab_type": "code",
        "colab": {
          "base_uri": "https://localhost:8080/",
          "height": 69
        },
        "outputId": "e1c5a7af-a489-4b65-e4a7-58effd51d5c7"
      },
      "source": [
        "first_name = str(input(\"Enter your first name \"))\n",
        "last_name = str(input(\"Enter your last name \"))\n",
        "print(\"You name is \",first_name[::-1]+\" \"+last_name[-1::-1])"
      ],
      "execution_count": 21,
      "outputs": [
        {
          "output_type": "stream",
          "text": [
            "Enter your first name Mohan\n",
            "Enter your last name Sharma\n",
            "You name is  nahoM amrahS\n"
          ],
          "name": "stdout"
        }
      ]
    },
    {
      "cell_type": "markdown",
      "metadata": {
        "id": "vFHyjcN1bf0f",
        "colab_type": "text"
      },
      "source": [
        "Write a Python program to find the volume of a sphere with diameter 12 cm.\n",
        "Formula: V=4/3 * π * r3\n"
      ]
    },
    {
      "cell_type": "code",
      "metadata": {
        "id": "4fqOnw-Ybnlv",
        "colab_type": "code",
        "colab": {
          "base_uri": "https://localhost:8080/",
          "height": 35
        },
        "outputId": "66283024-5a95-45fe-b54d-a215894b3a89"
      },
      "source": [
        "import math\n",
        "diameter = 12\n",
        "r = diameter/2\n",
        "V = (4/3)*math.pi*(r**3)\n",
        "V\n"
      ],
      "execution_count": 27,
      "outputs": [
        {
          "output_type": "execute_result",
          "data": {
            "text/plain": [
              "904.7786842338603"
            ]
          },
          "metadata": {
            "tags": []
          },
          "execution_count": 27
        }
      ]
    },
    {
      "cell_type": "markdown",
      "metadata": {
        "id": "J-lW6CBDoEH7",
        "colab_type": "text"
      },
      "source": [
        "Task 2:\n",
        "1.\n",
        "Write a program which accepts a sequence of comma-separated numbers from console and\n",
        "generate a list."
      ]
    },
    {
      "cell_type": "code",
      "metadata": {
        "id": "mEByD4Jabqla",
        "colab_type": "code",
        "colab": {
          "base_uri": "https://localhost:8080/",
          "height": 52
        },
        "outputId": "d5bb51ba-ade9-4f0f-fffe-1f998df71ece"
      },
      "source": [
        "numbers = (input(\"enter the sequence by comma-separated \"))\n",
        "num_list = numbers.split(',')\n",
        "num_newlist =[]\n",
        "for num in num_list:\n",
        "  num_newlist.append(int(num))\n",
        "num_newlist\n"
      ],
      "execution_count": 69,
      "outputs": [
        {
          "output_type": "stream",
          "text": [
            "enter the sequence by comma-separated 20,30,60,70,87\n"
          ],
          "name": "stdout"
        },
        {
          "output_type": "execute_result",
          "data": {
            "text/plain": [
              "[20, 30, 60, 70, 87]"
            ]
          },
          "metadata": {
            "tags": []
          },
          "execution_count": 69
        }
      ]
    },
    {
      "cell_type": "markdown",
      "metadata": {
        "id": "I4IHMwbZqUBw",
        "colab_type": "text"
      },
      "source": [
        "Task2\n",
        "2.\n",
        "Create the below pattern using nested for loop in Python.\n"
      ]
    },
    {
      "cell_type": "code",
      "metadata": {
        "id": "ADsnX37rowK9",
        "colab_type": "code",
        "colab": {
          "base_uri": "https://localhost:8080/",
          "height": 173
        },
        "outputId": "be5251ec-a018-484a-b7fa-1aca9e91299e"
      },
      "source": [
        "rang = int(input(\"enter range of pattern\"))\n",
        "for i in range(rang):\n",
        "    for j in range(0,i+1):\n",
        "      print(\"*\",end='')\n",
        "    print(\"\")\n",
        "for i in range(rang,0,-1):\n",
        "    for j in range(0,i-1):\n",
        "      print(\"*\",end='')\n",
        "    print(\"\")"
      ],
      "execution_count": 61,
      "outputs": [
        {
          "output_type": "stream",
          "text": [
            "enter range of pattern4\n",
            "*\n",
            "**\n",
            "***\n",
            "****\n",
            "***\n",
            "**\n",
            "*\n",
            "\n"
          ],
          "name": "stdout"
        }
      ]
    },
    {
      "cell_type": "markdown",
      "metadata": {
        "id": "6f5E4cTkw3t_",
        "colab_type": "text"
      },
      "source": [
        "3.\n",
        "Write a Python program to reverse a word after accepting the input from the user."
      ]
    },
    {
      "cell_type": "code",
      "metadata": {
        "id": "4JwpD6xYw6Ip",
        "colab_type": "code",
        "colab": {
          "base_uri": "https://localhost:8080/",
          "height": 52
        },
        "outputId": "6edb179e-de8a-47d5-ea9e-03fac9633392"
      },
      "source": [
        "input_word = input(\"enter any word\")\n",
        "revers_word = input_word[::-1]\n",
        "revers_word"
      ],
      "execution_count": 62,
      "outputs": [
        {
          "output_type": "stream",
          "text": [
            "enter any wordhello\n"
          ],
          "name": "stdout"
        },
        {
          "output_type": "execute_result",
          "data": {
            "text/plain": [
              "'olleh'"
            ]
          },
          "metadata": {
            "tags": []
          },
          "execution_count": 62
        }
      ]
    },
    {
      "cell_type": "markdown",
      "metadata": {
        "id": "3tSueWrpzbnD",
        "colab_type": "text"
      },
      "source": [
        "4.\n",
        "Write a Python Program to print the given string in the format specified in the sample output.\n",
        "WE, THE PEOPLE OF INDIA, having solemnly resolved to constitute India into a\n",
        "SOVEREIGN, SOCIALIST, SECULAR, DEMOCRATIC REPUBLIC and to secure to all\n",
        "its citizens"
      ]
    },
    {
      "cell_type": "code",
      "metadata": {
        "id": "7xhk2ohTzeX5",
        "colab_type": "code",
        "colab": {
          "base_uri": "https://localhost:8080/",
          "height": 87
        },
        "outputId": "4932529a-a637-486c-edbd-4dd2e3c45157"
      },
      "source": [
        "str1 = \"\"\"WE, THE PEOPLE OF INDIA, \n",
        "            having solemnly resolved to constitute India into a SOVEREIGN, \n",
        "                SOCIALIST, SECULAR, DEMOCRATIC REPUBLIC \n",
        "                 and to secure to all its citizens\"\"\"\n",
        "print(str1)"
      ],
      "execution_count": 68,
      "outputs": [
        {
          "output_type": "stream",
          "text": [
            "WE, THE PEOPLE OF INDIA, \n",
            "            having solemnly resolved to constitute India into a SOVEREIGN, \n",
            "                SOCIALIST, SECULAR, DEMOCRATIC REPUBLIC \n",
            "                 and to secure to all its citizens\n"
          ],
          "name": "stdout"
        }
      ]
    },
    {
      "cell_type": "code",
      "metadata": {
        "id": "MAxzhs_3z1fM",
        "colab_type": "code",
        "colab": {}
      },
      "source": [
        ""
      ],
      "execution_count": 0,
      "outputs": []
    }
  ]
}