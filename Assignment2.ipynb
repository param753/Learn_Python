{
  "nbformat": 4,
  "nbformat_minor": 0,
  "metadata": {
    "colab": {
      "name": "Untitled3.ipynb",
      "provenance": [],
      "collapsed_sections": []
    },
    "kernelspec": {
      "name": "python3",
      "display_name": "Python 3"
    }
  },
  "cells": [
    {
      "cell_type": "markdown",
      "metadata": {
        "id": "4QTgt8dhfs2u",
        "colab_type": "text"
      },
      "source": [
        "Task 1:\n",
        "\n",
        "1.1\n",
        "Write a Python Program to implement your own myreduce() function which works exactly like\n",
        "Python's built-in function reduce()"
      ]
    },
    {
      "cell_type": "code",
      "metadata": {
        "id": "-wuHDhxuY6KC",
        "colab_type": "code",
        "colab": {
          "base_uri": "https://localhost:8080/",
          "height": 34
        },
        "outputId": "d66e0f45-85b9-4e94-c66d-b259540d4f11"
      },
      "source": [
        "from functools import reduce\n",
        "\n",
        "def myreduce(funcname,iterableobj):\n",
        "  obj = iter(iterableobj)\n",
        "  return_value = next(obj)\n",
        "  for element in obj:\n",
        "    return_value =  funcname(return_value,element)\n",
        "  return return_value\n",
        "\n",
        "list1 = [10,20,30,40]\n",
        "#val = reduce(lambda a,b:a+b,list1)\n",
        "\n",
        "val = myreduce(lambda x,y: x*2/y if x<30 else 0,list1)\n",
        "val = myreduce(lambda a,b:a+b,list1)\n",
        "print(\"value return from myreduce function: \",val) "
      ],
      "execution_count": 18,
      "outputs": [
        {
          "output_type": "stream",
          "text": [
            "value return from myreduce function:  100\n"
          ],
          "name": "stdout"
        }
      ]
    },
    {
      "cell_type": "markdown",
      "metadata": {
        "id": "SUOepRyBr0GV",
        "colab_type": "text"
      },
      "source": [
        "Task 1:\n",
        "\n",
        "1.2\n",
        "Write a Python program to implement your own myfilter() function which works exactly like\n",
        "Python's built-in function filter()"
      ]
    },
    {
      "cell_type": "code",
      "metadata": {
        "id": "fPsOx7Z0hrfG",
        "colab_type": "code",
        "colab": {
          "base_uri": "https://localhost:8080/",
          "height": 34
        },
        "outputId": "757a982f-2f87-4441-8830-a2075c290a82"
      },
      "source": [
        "def myfilter(funcname,iterableobj):\n",
        "  return (element for element in iterableobj if funcname(element))\n",
        "\n",
        "def even_num(x):\n",
        "  return x%2==0\n",
        "  \n",
        "list1 = [10,15,20,25,30,35,40]\n",
        "#val = list(myfilter(even_num,list1))\n",
        "val = list(myfilter(lambda x: x%2==1,list1))\n",
        "print(\"value return from myfilter function: \",val)"
      ],
      "execution_count": 26,
      "outputs": [
        {
          "output_type": "stream",
          "text": [
            "value return from myfilter function:  [15, 25, 35]\n"
          ],
          "name": "stdout"
        }
      ]
    },
    {
      "cell_type": "markdown",
      "metadata": {
        "colab_type": "text",
        "id": "AeAdKy0Fsbop"
      },
      "source": [
        "Task 1:\n",
        "\n",
        "2.Implement List comprehensions to produce the following lists.\n",
        "Write List comprehensions to produce the following Lists\n",
        "\n",
        "['A', 'C', 'A', 'D', 'G', 'I', ’L’, ‘ D’]\n",
        "\n",
        "['x', 'xx', 'xxx', 'xxxx', 'y', 'yy', 'yyy', 'yyyy', 'z', 'zz', 'zzz', 'zzzz']\n",
        "\n",
        "['x', 'y', 'z', 'xx', 'yy', 'zz', 'xx', 'yy', 'zz', 'xxxx', 'yyyy', 'zzzz']\n",
        "\n",
        "[[2], [3], [4], [3], [4], [5], [4], [5], [6]]\n",
        "\n",
        "[[2, 3, 4, 5], [3, 4, 5, 6], [4, 5, 6, 7], [5, 6, 7, 8]]\n",
        "\n",
        "[(1, 1), (2, 1), (3, 1), (1, 2), (2, 2), (3, 2), (1, 3), (2, 3), (3, 3)]"
      ]
    },
    {
      "cell_type": "code",
      "metadata": {
        "id": "JhyJut9asvO6",
        "colab_type": "code",
        "colab": {
          "base_uri": "https://localhost:8080/",
          "height": 286
        },
        "outputId": "ae72f40d-138b-460e-de90-810a3b7c52e9"
      },
      "source": [
        "str1 = 'acadgild'\n",
        "print(\"display letter in upper case\")\n",
        "print([letter.upper() for letter in str1])\n",
        "\n",
        "str2='xyz'\n",
        "print(\"\\ndisplay letter in in order ['x', 'xx', 'xxx', 'xxxx', 'y', 'yy', 'yyy', 'yyyy', 'z', 'zz', 'zzz', 'zzzz']\")\n",
        "[l*i for l in str2 for i in range(1,5)]\n",
        "\n",
        "print(\"\\ndisplay letter in in order ['x', 'y', 'z', 'xx', 'yy', 'zz', 'xx', 'yy', 'zz', 'xxxx', 'yyyy', 'zzzz']\")\n",
        "print([l*i for i in range(1,5) for l in str2])\n",
        "\n",
        "print(\"\\ndisplay letter in in order [[2], [3], [4], [3], [4], [5], [4], [5], [6]]\")\n",
        "list2 = [2,3,4,3,4,5,4,5,6]\n",
        "print([[x] for x in list2])\n",
        "\n",
        "l = [2,3,4,5]\n",
        "print(\"\\n display letter in in order [[2, 3, 4, 5], [3, 4, 5, 6], [4, 5, 6, 7], [5, 6, 7, 8]] \")\n",
        "print([[x+i for x in l] for i in range(4)])\n",
        "\n",
        "print(\"\\ndisplay letter in in order [(1, 1), (2, 1), (3, 1), (1, 2), (2, 2), (3, 2), (1, 3), (2, 3), (3, 3)]\")\n",
        "print([(i,j) for j in range(1,4) for i in range(1,4)])"
      ],
      "execution_count": 186,
      "outputs": [
        {
          "output_type": "stream",
          "text": [
            "display letter in upper case\n",
            "['A', 'C', 'A', 'D', 'G', 'I', 'L', 'D']\n",
            "\n",
            "display letter in in order ['x', 'xx', 'xxx', 'xxxx', 'y', 'yy', 'yyy', 'yyyy', 'z', 'zz', 'zzz', 'zzzz']\n",
            "\n",
            "display letter in in order ['x', 'y', 'z', 'xx', 'yy', 'zz', 'xx', 'yy', 'zz', 'xxxx', 'yyyy', 'zzzz']\n",
            "['x', 'y', 'z', 'xx', 'yy', 'zz', 'xxx', 'yyy', 'zzz', 'xxxx', 'yyyy', 'zzzz']\n",
            "\n",
            "display letter in in order [[2], [3], [4], [3], [4], [5], [4], [5], [6]]\n",
            "[[2], [3], [4], [3], [4], [5], [4], [5], [6]]\n",
            "\n",
            " display letter in in order [[2, 3, 4, 5], [3, 4, 5, 6], [4, 5, 6, 7], [5, 6, 7, 8]] \n",
            "[[2, 3, 4, 5], [3, 4, 5, 6], [4, 5, 6, 7], [5, 6, 7, 8]]\n",
            "\n",
            "display letter in in order [(1, 1), (2, 1), (3, 1), (1, 2), (2, 2), (3, 2), (1, 3), (2, 3), (3, 3)]\n",
            "[(1, 1), (2, 1), (3, 1), (1, 2), (2, 2), (3, 2), (1, 3), (2, 3), (3, 3)]\n"
          ],
          "name": "stdout"
        }
      ]
    },
    {
      "cell_type": "markdown",
      "metadata": {
        "id": "_ptlClDb9JsD",
        "colab_type": "text"
      },
      "source": [
        "Task1\n",
        "\n",
        "3.Implement a function longestWord() that takes a list of words and returns the longest one."
      ]
    },
    {
      "cell_type": "code",
      "metadata": {
        "id": "PBcPVZ0Ju2TF",
        "colab_type": "code",
        "colab": {
          "base_uri": "https://localhost:8080/",
          "height": 34
        },
        "outputId": "4d92e20d-beb1-4bd6-97ae-000f1502c0e3"
      },
      "source": [
        "def longestWord(list1):\n",
        "  l  = [len(x) for x in list1]\n",
        "  maxlen = max(l)\n",
        "  for element in list1:\n",
        "    if len(element) == maxlen:\n",
        "      return element\n",
        "\n",
        "list1 = ['a','bb','ccc','zz','dddd']\n",
        "print(\"Logest word in list1: \", longestWord(list1))\n"
      ],
      "execution_count": 155,
      "outputs": [
        {
          "output_type": "stream",
          "text": [
            "Logest word in list1:  dddd\n"
          ],
          "name": "stdout"
        }
      ]
    },
    {
      "cell_type": "markdown",
      "metadata": {
        "id": "fpUFBRq6VO51",
        "colab_type": "text"
      },
      "source": [
        "Task2\n",
        "\n",
        "1.1 Write a Python Program(with class concepts) to find the area of the triangle using the below\n",
        "formula.\n",
        "area = (s*(s-a)*(s-b)*(s-c)) ** 0.5\n"
      ]
    },
    {
      "cell_type": "code",
      "metadata": {
        "id": "tuk5UiJvVUL-",
        "colab_type": "code",
        "colab": {
          "base_uri": "https://localhost:8080/",
          "height": 84
        },
        "outputId": "4eb0130f-20a9-4e27-f114-a991605e8c8f"
      },
      "source": [
        "class Triangle_Area():\n",
        "  def __init__(self,a,b,c):\n",
        "    self.a = a\n",
        "    self.b = b\n",
        "    self.c = c\n",
        "    self.s = (a + b + c)/2\n",
        "  def Area(self):\n",
        "    return (self.s * (self.s - self.a) * (self.s - self.b) * (self.s - self.c)) ** 0.5\n",
        "\n",
        "\n",
        "a = int(input(\"Enter len of a side of trianle \"))\n",
        "b = int(input(\"Enter len of a side of trianle \"))\n",
        "c = int(input(\"Enter len of a side of trianle \"))\n",
        "\n",
        "obj = Triangle_Area(a,b,c)\n",
        "print(\"area of triangle with length 5 for all sides\",obj.Area())"
      ],
      "execution_count": 161,
      "outputs": [
        {
          "output_type": "stream",
          "text": [
            "Enter len of a side of trianle 5\n",
            "Enter len of a side of trianle 5\n",
            "Enter len of a side of trianle 5\n",
            "area of triangle with length 5 for all sides 10.825317547305483\n"
          ],
          "name": "stdout"
        }
      ]
    },
    {
      "cell_type": "markdown",
      "metadata": {
        "id": "fJV_wWMOYJd-",
        "colab_type": "text"
      },
      "source": [
        "Task2\n",
        "\n",
        "1.2\n",
        "Write a function filter_long_words() that takes a list of words and an integer n and returns the list\n",
        "of words that are longer than n."
      ]
    },
    {
      "cell_type": "code",
      "metadata": {
        "id": "IiBHNSKJYhu3",
        "colab_type": "code",
        "colab": {
          "base_uri": "https://localhost:8080/",
          "height": 34
        },
        "outputId": "4fa145ef-c8a2-4033-e588-46e001516df0"
      },
      "source": [
        "def filter_long_words(list_word,n):\n",
        "  new_list = []\n",
        "  for word in list_word:\n",
        "    if n < len(word):\n",
        "      new_list.append(word)\n",
        "  return new_list\n",
        "\n",
        "list4= ['aa','bbb','cccc','ddddd','eee']\n",
        "\n",
        "filter_long_words(list4,3)    "
      ],
      "execution_count": 162,
      "outputs": [
        {
          "output_type": "execute_result",
          "data": {
            "text/plain": [
              "['cccc', 'ddddd']"
            ]
          },
          "metadata": {
            "tags": []
          },
          "execution_count": 162
        }
      ]
    },
    {
      "cell_type": "markdown",
      "metadata": {
        "id": "FALF7APlbN0o",
        "colab_type": "text"
      },
      "source": [
        "Task2\n",
        "\n",
        "2.1 Write a Python program using function concept that maps list of words into a list of integers\n",
        "representing the lengths of the corresponding words .\n",
        "\n",
        "Hint: If a list [ ab,cde,erty] is passed on to the python function output should come as [2,3,4]\n",
        "Here 2,3 and 4 are the lengths of the words in the list."
      ]
    },
    {
      "cell_type": "code",
      "metadata": {
        "id": "z-0FbpCkYa4u",
        "colab_type": "code",
        "colab": {
          "base_uri": "https://localhost:8080/",
          "height": 50
        },
        "outputId": "be585e87-4eb2-4333-b92f-45ecdbf57c47"
      },
      "source": [
        "list_word = ['hello','you','of','india',\"love\"]\n",
        "print(\" length of each word of list \" ,list_word)\n",
        "[len(word) for word in list_word]"
      ],
      "execution_count": 165,
      "outputs": [
        {
          "output_type": "stream",
          "text": [
            " length of each word of list  ['hello', 'you', 'of', 'india', 'love']\n"
          ],
          "name": "stdout"
        },
        {
          "output_type": "execute_result",
          "data": {
            "text/plain": [
              "[5, 3, 2, 5, 4]"
            ]
          },
          "metadata": {
            "tags": []
          },
          "execution_count": 165
        }
      ]
    },
    {
      "cell_type": "markdown",
      "metadata": {
        "id": "28mLV69hcMa3",
        "colab_type": "text"
      },
      "source": [
        "Task2\n",
        "\n",
        "2.2 Write a Python function which takes a character (i.e. a string of length 1) and returns True if it is\n",
        "a vowel, False otherwise."
      ]
    },
    {
      "cell_type": "code",
      "metadata": {
        "id": "dRw5PcSmcUae",
        "colab_type": "code",
        "colab": {
          "base_uri": "https://localhost:8080/",
          "height": 50
        },
        "outputId": "0fa046b7-731d-466f-c757-826c34ac4886"
      },
      "source": [
        "def is_vowel(char):\n",
        "  return char.lower() in ['a','e','i','o','u']\n",
        "ch  = input(\"enter any single letter \")\n",
        "print(\" check is if char {} is vowel ?\".format(ch),is_vowel(ch))"
      ],
      "execution_count": 169,
      "outputs": [
        {
          "output_type": "stream",
          "text": [
            "enter any single letter A\n",
            " check is if char A is vowel ? True\n"
          ],
          "name": "stdout"
        }
      ]
    }
  ]
}